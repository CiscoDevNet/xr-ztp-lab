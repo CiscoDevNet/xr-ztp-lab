{
 "cells": [
  {
   "cell_type": "markdown",
   "metadata": {},
   "source": [
    "## NSO ZTP Service\n",
    "\n",
    "We implemented a simple service in NSO called ztp which will allow us to make a mapping between a device serial number and the day0 configuration file which should be applied, as well as define additional information like hostname.\n",
    "The service will also provide 2 actions:\n",
    "- Provide the day0 configuration file content based on a serial number\n",
    "- Onboard a device with a specified serial number – add the device to the device tree, fetch the SSH keys and do a sync-from. After the device is sync-ed a NETCONF notification will be created on the custom topic ztp.\n",
    "\n",
    "\n",
    "[Yang model](../nso/packages/ztp/src/yang/ztp.yang)\n",
    "\n",
    "[Service python file](../nso/packages/ztp/python/ztp/main.py)\n",
    "\n",
    "[Template applied by the onboarding action](../nso/packages/ztp/templates/ztp-template.xml)\n"
   ]
  },
  {
   "cell_type": "markdown",
   "metadata": {},
   "source": [
    "### Configure the ztp service for the serial 36e6df2c\n",
    "\n",
    "Open a new terminal (File -> New -> Terminal)\n",
    "\n",
    "Open the nso cli:\n",
    "\n",
    "[cisco@nso ncs-run]$ **ncs_cli -u admin -C**\n",
    "\n",
    "admin connected from 10.16.170.242 using ssh on nso\n",
    "\n",
    "admin@ncs# **config t**\n",
    "\n",
    "Entering configuration mode terminal\n",
    "\n",
    "admin@ncs(config)# **ztp 36e6df2c hostname sevt_lab_xr day0 test.sh ip 198.18.1.32**\n",
    "\n",
    "admin@ncs(config-ztp-36e6df2c)# **commit**\n",
    "\n",
    "Commit complete.\n",
    "\n",
    "admin@ncs(config-ztp-36e6df2c)# **end**\n",
    "\n",
    "admin@ncs# **show running-config ztp**\n",
    "\n",
    "ztp 36e6df2c\n",
    "\n",
    " hostname sevt_lab_xr\n",
    " \n",
    " day0     test.sh\n",
    " \n",
    " ip       198.18.1.32\n"
   ]
  },
  {
   "cell_type": "code",
   "execution_count": null,
   "metadata": {},
   "outputs": [],
   "source": []
  }
 ],
 "metadata": {
  "kernelspec": {
   "display_name": "Python 3",
   "language": "python",
   "name": "python3"
  },
  "language_info": {
   "codemirror_mode": {
    "name": "ipython",
    "version": 3
   },
   "file_extension": ".py",
   "mimetype": "text/x-python",
   "name": "python",
   "nbconvert_exporter": "python",
   "pygments_lexer": "ipython3",
   "version": "3.7.4"
  }
 },
 "nbformat": 4,
 "nbformat_minor": 4
}
