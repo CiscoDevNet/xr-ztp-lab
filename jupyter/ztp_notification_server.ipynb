{
 "cells": [
  {
   "cell_type": "markdown",
   "metadata": {},
   "source": [
    "## Notification server\n",
    "\n",
    "The flow of events that correspond to the ZTP phases can be monitored using NETCONF notifications.\n",
    "NSO is configured to expose notifications when an action has been run or a state has changed. Using a netconf client (ncclient for python, anc/jnc for java, etc) we can connect to NSO over NETCONF and listen indefinitely to incoming updates for a stream that tracks the configuration retrieval and onboarding steps of ZTP. On reception of a notification, the application makes a REST call that will result in posting the notification in a Webex Teams chat-room on behalf of a chat-bot.\n",
    "\n",
    "The implementation of this NETCONF/REST application is written in Python v3 with ncclient a NETCONF client library and Requests as an HTTP library. The application runs on the NSO host and it listens to incoming NETCONF notifications. \n",
    "\n",
    "### Post notification to Webex teams method\n",
    "\n",
    "The notifications are posted to the chat-room named ztp-vt, on behalf of a chat-bot named ZTP-VT, using the REST API of Webex. The POST operation requires the following:\n",
    "\n",
    "•\tNotification as payload\n",
    "\n",
    "•\tToken that identifies the chat-bot\n",
    "\n",
    "•\tId that identifies the chat-room\n"
   ]
  },
  {
   "cell_type": "code",
   "execution_count": 2,
   "metadata": {},
   "outputs": [
    {
     "ename": "ModuleNotFoundError",
     "evalue": "No module named 'ncclient'",
     "output_type": "error",
     "traceback": [
      "\u001b[0;31m---------------------------------------------------------------------------\u001b[0m",
      "\u001b[0;31mModuleNotFoundError\u001b[0m                       Traceback (most recent call last)",
      "\u001b[0;32m<ipython-input-2-42825d7f9860>\u001b[0m in \u001b[0;36m<module>\u001b[0;34m\u001b[0m\n\u001b[0;32m----> 1\u001b[0;31m \u001b[0;32mfrom\u001b[0m \u001b[0mncclient\u001b[0m \u001b[0;32mimport\u001b[0m \u001b[0mmanager\u001b[0m\u001b[0;34m\u001b[0m\u001b[0;34m\u001b[0m\u001b[0m\n\u001b[0m\u001b[1;32m      2\u001b[0m \u001b[0;32mimport\u001b[0m \u001b[0mrequests\u001b[0m\u001b[0;34m\u001b[0m\u001b[0;34m\u001b[0m\u001b[0m\n\u001b[1;32m      3\u001b[0m \u001b[0;32mimport\u001b[0m \u001b[0mjson\u001b[0m\u001b[0;34m\u001b[0m\u001b[0;34m\u001b[0m\u001b[0m\n\u001b[1;32m      4\u001b[0m \u001b[0;34m\u001b[0m\u001b[0m\n\u001b[1;32m      5\u001b[0m \u001b[0;32mdef\u001b[0m \u001b[0mpost_notification\u001b[0m\u001b[0;34m(\u001b[0m\u001b[0mnotification\u001b[0m\u001b[0;34m,\u001b[0m \u001b[0mbot_token\u001b[0m\u001b[0;34m,\u001b[0m \u001b[0mroom_id\u001b[0m\u001b[0;34m)\u001b[0m\u001b[0;34m:\u001b[0m\u001b[0;34m\u001b[0m\u001b[0;34m\u001b[0m\u001b[0m\n",
      "\u001b[0;31mModuleNotFoundError\u001b[0m: No module named 'ncclient'"
     ]
    }
   ],
   "source": [
    "from ncclient import manager\n",
    "import requests\n",
    "import json\n",
    "\n",
    "def post_notification(notification, bot_token, room_id):\n",
    "    header = {\"Authorization\": \"Bearer %s\" % bot_token,\n",
    "              \"Content-Type\": \"application/json\"}\n",
    "\n",
    "    payload = {\"roomId\": room_id,\n",
    "               \"markdown\": \"```\" + notification}\n",
    "\n",
    "    result = requests.post(\"https://api.ciscospark.com/v1/messages/\",\n",
    "                           headers=header,\n",
    "                           data=json.dumps(payload),\n",
    "                           verify=True)\n",
    "\n",
    "    if result.status_code == 200:\n",
    "        print(\"Successfully posted to Webex Teams room\")\n",
    "    else:\n",
    "        print(\"Failed to post to Webex Teams room with status code: %s\" % result.status_code)\n",
    "        if result.status_code == 400:\n",
    "            print(\"Check that the room id is correct\")\n",
    "        elif result.status_code == 401:\n",
    "            print(\"Check that the bot token is correct\")\n",
    "        elif result.status_code == 404:\n",
    "            print(\"Check that the bot is part of the room\")\n"
   ]
  },
  {
   "cell_type": "markdown",
   "metadata": {},
   "source": [
    "### Listen for incoming notifications\n",
    "\n",
    "NSO uses its Northbound to expose a custom stream of NETCONF notifications called ztp. Each time NSO onboards a device, it sends a notification on this stream. The subscriber can then fetch this notification and pass it further to the chat-room. \n",
    "We use ncclient to subscribe to the ztp stream, and every time a notification is received, we post it to the Webex teams room"
   ]
  },
  {
   "cell_type": "code",
   "execution_count": 1,
   "metadata": {},
   "outputs": [
    {
     "ename": "NameError",
     "evalue": "name 'manager' is not defined",
     "output_type": "error",
     "traceback": [
      "\u001b[0;31m---------------------------------------------------------------------------\u001b[0m",
      "\u001b[0;31mNameError\u001b[0m                                 Traceback (most recent call last)",
      "\u001b[0;32m<ipython-input-1-954e587f53c4>\u001b[0m in \u001b[0;36m<module>\u001b[0;34m\u001b[0m\n\u001b[1;32m     16\u001b[0m \u001b[0;34m\u001b[0m\u001b[0m\n\u001b[1;32m     17\u001b[0m     \u001b[0;31m# Connect to NSO\u001b[0m\u001b[0;34m\u001b[0m\u001b[0;34m\u001b[0m\u001b[0;34m\u001b[0m\u001b[0m\n\u001b[0;32m---> 18\u001b[0;31m     m = manager.connect(look_for_keys=False,\n\u001b[0m\u001b[1;32m     19\u001b[0m                          \u001b[0mhost\u001b[0m\u001b[0;34m=\u001b[0m\u001b[0msession\u001b[0m\u001b[0;34m[\u001b[0m\u001b[0;34m'nso'\u001b[0m\u001b[0;34m]\u001b[0m\u001b[0;34m[\u001b[0m\u001b[0;34m'host'\u001b[0m\u001b[0;34m]\u001b[0m\u001b[0;34m,\u001b[0m\u001b[0;34m\u001b[0m\u001b[0;34m\u001b[0m\u001b[0m\n\u001b[1;32m     20\u001b[0m                          \u001b[0mport\u001b[0m\u001b[0;34m=\u001b[0m\u001b[0msession\u001b[0m\u001b[0;34m[\u001b[0m\u001b[0;34m'nso'\u001b[0m\u001b[0;34m]\u001b[0m\u001b[0;34m[\u001b[0m\u001b[0;34m'port'\u001b[0m\u001b[0;34m]\u001b[0m\u001b[0;34m,\u001b[0m\u001b[0;34m\u001b[0m\u001b[0;34m\u001b[0m\u001b[0m\n",
      "\u001b[0;31mNameError\u001b[0m: name 'manager' is not defined"
     ]
    }
   ],
   "source": [
    "if __name__ == '__main__':\n",
    "\n",
    "    # Read NSO credentials\n",
    "    session = {}\n",
    "    # NSO credentials\n",
    "    session['nso'] = {}\n",
    "    session['nso']['host'] = \"198.18.134.50\"\n",
    "    session['nso']['port'] = \"2022\"\n",
    "    session['nso']['user'] = \"admin\"\n",
    "    session['nso']['pass'] = \"admin\"\n",
    "\n",
    "    session['stream'] = \"ztp\"\n",
    "    session['teams_bot_token'] = \"ZjczZjFmYTctNDkwNy00ZjBlLTljZjQtN2QyNTQ2YzJkMzAwNGMwNzM1OTktNTZl_PF84_1eb65fdf-9643-417f-9974-ad72cae0e10f\"\n",
    "    session['teams_room_id'] = \"Y2lzY29zcGFyazovL3VzL1JPT00vNzRiZDE2MjAtNDFiMC0xMWVhLTgzZjUtMGZjZWJmNWQ3OTlm\"\n",
    "    \n",
    "\n",
    "    # Connect to NSO\n",
    "    m = manager.connect(look_for_keys=False,\n",
    "                         host=session['nso']['host'],\n",
    "                         port=session['nso']['port'],\n",
    "                         username=session['nso']['user'],\n",
    "                         password=session['nso']['pass'],\n",
    "                         hostkey_verify=False)\n",
    "\n",
    "    try:\n",
    "        # Subscribe to notifications of a stream\n",
    "        m.create_subscription(stream_name=session['stream'])\n",
    "\n",
    "    except Exception as e:\n",
    "        print('Failed to create subscription:', e)\n",
    "    while True:\n",
    "        # Wait indefinitely for notifications\n",
    "        notification = m.take_notification()\n",
    "\n",
    "        # Print notification\n",
    "        print(notification.notification_xml)\n",
    "\n",
    "        # Send notification to the Webex Teams room\n",
    "        post_notification(notification.notification_xml,\n",
    "                          session['teams_bot_token'],\n",
    "                          session['teams_room_id'])\n",
    "    m.close_session()\n",
    "    \n",
    "    "
   ]
  },
  {
   "cell_type": "code",
   "execution_count": null,
   "metadata": {},
   "outputs": [],
   "source": []
  }
 ],
 "metadata": {
  "kernelspec": {
   "display_name": "Python 3",
   "language": "python",
   "name": "python3"
  },
  "language_info": {
   "codemirror_mode": {
    "name": "ipython",
    "version": 3
   },
   "file_extension": ".py",
   "mimetype": "text/x-python",
   "name": "python",
   "nbconvert_exporter": "python",
   "pygments_lexer": "ipython3",
   "version": "3.7.4"
  }
 },
 "nbformat": 4,
 "nbformat_minor": 4
}
