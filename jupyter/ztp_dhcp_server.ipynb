{
 "cells": [
  {
   "cell_type": "markdown",
   "metadata": {},
   "source": [
    "## DHCP server configuration\n",
    "\n",
    "For the workshop we use the ISC DHCP server which is a very popular opensource server on the UNIX/Linux platforms.\n",
    "\n",
    "The DHCP server configuration file is provided – server 198.18.1.30 (cisco/cisco), /etc/dhcp/dhcpd.conf:\n",
    "\n",
    "```\n",
    "cisco@server-1:~$ cat /etc/dhcp/dhcpd.conf\n",
    "ddns-update-style none;\n",
    "log-facility local7;\n",
    "\n",
    "subnet 198.18.1.0 netmask 255.255.255.0 {\n",
    "    option subnet-mask 255.255.255.0;\n",
    "    option routers 198.18.1.1;\n",
    "    option broadcast-address 198.18.1.255;\n",
    "    option domain-name-servers 144.254.71.184;\n",
    "#    option domain-name \"ciscoztp.com\";\n",
    "    default-lease-time 600;\n",
    "    max-lease-time 7200;\n",
    "}\n",
    "host xrv9v_mgmt {\n",
    "    hardware ethernet 5e:00:00:00:00:00;\n",
    "    fixed-address 198.18.1.32;\n",
    "    filename = concat(\"http://198.18.134.50:8181/ztp/conf/v1/\", substring(option dhcp-client-identifier,0,8));\n",
    "}\n",
    "\n",
    "```"
   ]
  },
  {
   "cell_type": "markdown",
   "metadata": {},
   "source": [
    "We configure the server to provide the same pre-configured IP addresses for the devices. This allows to more easily access the devices during the lab using the same IP address. A more complex subnet definition and DHCP address allocation is beyond the scope of this lab.\n",
    "\n",
    "We also filter the provided IP address to only reply to the device(s) we use in the lab based on the interface HW MAC address.\n",
    "```\n",
    "host xrv9k_mgmt {\n",
    "    hardware ethernet 5e:00:00:00:00:00;\n",
    "    fixed-address 198.18.1.32;\n",
    "    filename = concat(\"http://198.18.134.50:8181/ztp/conf/v1/\", substring(option dhcp-client-identifier,0,8));\n",
    "}\n",
    "```\n",
    "\n",
    "The option dhcp-client-identifier will provide the device serial number. Because we are using virtual devices this is different from a physical device serial number and this is why we are only getting the first 8 characters from the dhcp-client-identifier string. \n",
    "\n",
    "The generated URL which will look like:\n",
    "\n",
    "http://198.18.134.50:8181/ztp/conf/v1/36e6df2c\n",
    "\n",
    "There are additional information on the dhcp server side - like product id, hw address, etc - which may be used in the URL in order to better identify the device on the server side if required. If the request from the device to the DHCP server passes through DHCP relays, specific information added by those relays is also available (DHCP option 82.1), like network location information - connected port, neighbor, and so on.\n",
    "\n",
    "The length of the URL in the DHCP option 67 is limited to 128 characters.\n",
    "\n",
    "The last part of the DHCP config is related to the PNP demo – please refer to the PNP part.\n",
    "\n",
    "To (re)start the DHCP server:\n",
    "\n",
    "Open a terminal: File -> New -> Terminal\n",
    "\n",
    "SSH to the dhcp server\n",
    "ssh cisco@198.18.1.30\n",
    "cisco@server-1:~$ **sudo service isc-dhcp-server restart**"
   ]
  },
  {
   "cell_type": "code",
   "execution_count": null,
   "metadata": {},
   "outputs": [],
   "source": []
  }
 ],
 "metadata": {
  "kernelspec": {
   "display_name": "Python 3",
   "language": "python",
   "name": "python3"
  },
  "language_info": {
   "codemirror_mode": {
    "name": "ipython",
    "version": 3
   },
   "file_extension": ".py",
   "mimetype": "text/x-python",
   "name": "python",
   "nbconvert_exporter": "python",
   "pygments_lexer": "ipython3",
   "version": "3.7.4"
  }
 },
 "nbformat": 4,
 "nbformat_minor": 4
}
