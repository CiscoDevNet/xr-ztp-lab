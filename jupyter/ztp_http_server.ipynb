{
 "cells": [
  {
   "cell_type": "code",
   "execution_count": null,
   "metadata": {},
   "outputs": [],
   "source": [
    "import os\n",
    "import sys\n",
    "import shutil\n",
    "import atexit\n",
    "import logging\n",
    "\n",
    "from ncclient import manager\n",
    "from xml.etree import ElementTree\n",
    "from ncclient.xml_ import to_ele\n",
    "from ncclient.operations import RPCError\n",
    "\n",
    "from flask import Flask, send_from_directory\n",
    "\n",
    "app = Flask(__name__)\n",
    "app.config['SECRET_KEY'] = 'secret'\n",
    "action_namespace = 'http://example.com/ztp'\n",
    "temporary_dir = 'tmp'\n",
    "session = {}\n"
   ]
  },
  {
   "cell_type": "code",
   "execution_count": null,
   "metadata": {},
   "outputs": [],
   "source": [
    "\"\"\"\n",
    "Preparation: initial configuration\n",
    "\"\"\"\n",
    "def initial_config():\n",
    "\n",
    "    # NSO credentials\n",
    "    session['nso'] = {}\n",
    "    session['nso']['host'] = \"198.18.134.50\"\n",
    "    session['nso']['port'] = \"2022\"\n",
    "    session['nso']['user'] = \"admin\"\n",
    "    session['nso']['pass'] = \"admin\"\n",
    "\n",
    "    # Read NSO RPC action for request of configuration file\n",
    "    file_name = \"config/config-action.xml\"\n",
    "    with open(file_name, 'r') as file:\n",
    "        session['nso']['config-action'] = file.read()\n",
    "\n",
    "    # Read NSO RPC action for request of onboarding\n",
    "    file_name = \"config/onboard-action.xml\"\n",
    "    with open(file_name, 'r') as file:\n",
    "        session['nso']['onboard-action'] = file.read()\n",
    "\n",
    "    # Create temporary directory that stores config files\n",
    "    if not os.path.exists(temporary_dir):\n",
    "        os.mkdir(temporary_dir)\n",
    "        "
   ]
  },
  {
   "cell_type": "code",
   "execution_count": null,
   "metadata": {},
   "outputs": [],
   "source": [
    "\"\"\"\n",
    "Route /ztp/conf/v1/<serial> returns the contents of node <conf> as a reply to\n",
    "calling an action over NETCONF.\n",
    "\n",
    "The response is empty if:\n",
    " - the serial number does not exist\n",
    " - the NETCONF connection cannot be established\n",
    " - the RPC call fails\n",
    " - the action file is invalid\n",
    " - there is no <conf> node returned over NETCONF in the RPCReply\n",
    "\n",
    "Throws an error if the RPC call fails.\n",
    "\"\"\"\n",
    "@app.route('/ztp/conf/v1/<serial>')\n",
    "def conf_v1(serial):\n",
    "    m = manager.connect(look_for_keys=False,\n",
    "                        host=session['nso']['host'],\n",
    "                        port=session['nso']['port'],\n",
    "                        username=session['nso']['user'],\n",
    "                        password=session['nso']['pass'],\n",
    "                        hostkey_verify=False)\n",
    "    try:\n",
    "        # Call get config action\n",
    "        if session['nso']['config-action'] is not None and len(session['nso']['config-action']) > 0:\n",
    "            try:\n",
    "                response = m.dispatch(to_ele(session['nso']['config-action'].format(SERIAL=serial)))\n",
    "                configuration = response.data_ele.find(\".//*{\" + action_namespace + \"}message\")\n",
    "\n",
    "                # Return a configuration file\n",
    "                if configuration is not None:\n",
    "                    with open(os.path.join(temporary_dir, serial), 'w') as file:\n",
    "                        file.write(configuration.text)\n",
    "\n",
    "                    return send_from_directory(temporary_dir, serial,\n",
    "                                               as_attachment=True)\n",
    "            except RPCError as e:\n",
    "                print('Failed to make RPC request:', e)\n",
    "    finally:\n",
    "        m.close_session()\n",
    "\n",
    "    return ''\n"
   ]
  },
  {
   "cell_type": "code",
   "execution_count": null,
   "metadata": {},
   "outputs": [],
   "source": [
    "\"\"\"\n",
    "Route /ztp/status/<serial>/<status> triggers the device onboarding\n",
    "process in NSO if the its readiness status is 1.\n",
    "\n",
    "Expected input parameters:\n",
    " - serial (serial number of the device)\n",
    " - status (readiness status of the device)\n",
    "\n",
    "The response is empty all the time, even if:\n",
    " - the serial number does not exist\n",
    " - the NETCONF connection cannot be established\n",
    " - the RPC call fails\n",
    " - the action file for onboarding is invalid\n",
    "\n",
    "Throws an error if the RPC call fails.\n",
    "\"\"\"\n",
    "@app.route('/ztp/status/<serial>/<int:status>', methods=['POST'])\n",
    "def onboard(serial, status):\n",
    "\n",
    "    m = manager.connect(look_for_keys=False,\n",
    "                        host=session['nso']['host'],\n",
    "                        port=session['nso']['port'],\n",
    "                        username=session['nso']['user'],\n",
    "                        password=session['nso']['pass'],\n",
    "                        hostkey_verify=False)\n",
    "    \n",
    "    try:\n",
    "        if serial and status == 1:\n",
    "            # Call onboarding action\n",
    "            if session['nso']['onboard-action'] is not None and len(session['nso']['onboard-action']) > 0:\n",
    "                try:\n",
    "                    m.dispatch(to_ele(session['nso']['onboard-action'].format(SERIAL=serial)))\n",
    "                except RPCError as e:\n",
    "                    print('Failed to make RPC request:', e)\n",
    "\n",
    "    finally:\n",
    "        m.close_session()\n",
    "\n",
    "    return ''\n",
    "\n"
   ]
  },
  {
   "cell_type": "code",
   "execution_count": 7,
   "metadata": {},
   "outputs": [
    {
     "name": "stdout",
     "output_type": "stream",
     "text": [
      " * Serving Flask app \"__main__\" (lazy loading)\n",
      " * Environment: production\n",
      "   WARNING: This is a development server. Do not use it in a production deployment.\n",
      "   Use a production WSGI server instead.\n",
      " * Debug mode: off\n"
     ]
    },
    {
     "name": "stderr",
     "output_type": "stream",
     "text": [
      " * Running on http://0.0.0.0:8181/ (Press CTRL+C to quit)\n"
     ]
    }
   ],
   "source": [
    "if __name__ == '__main__':\n",
    "\n",
    "    initial_config()\n",
    "    # Expose server through all IP addresses, on port 8181\n",
    "    app.run(host='0.0.0.0', port=8181)\n"
   ]
  },
  {
   "cell_type": "code",
   "execution_count": null,
   "metadata": {},
   "outputs": [],
   "source": []
  }
 ],
 "metadata": {
  "kernelspec": {
   "display_name": "Python 3",
   "language": "python",
   "name": "python3"
  },
  "language_info": {
   "codemirror_mode": {
    "name": "ipython",
    "version": 3
   },
   "file_extension": ".py",
   "mimetype": "text/x-python",
   "name": "python",
   "nbconvert_exporter": "python",
   "pygments_lexer": "ipython3",
   "version": "3.6.8"
  }
 },
 "nbformat": 4,
 "nbformat_minor": 4
}
