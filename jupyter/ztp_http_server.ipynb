{
 "cells": [
  {
   "cell_type": "markdown",
   "metadata": {},
   "source": [
    "## HTTP server\n",
    "\n",
    "### Description\n",
    "\n",
    "When contacted by the DHCP client, the DHCP server returns an HTTP URL together with the IP address assigned to the IOS-XR. The ZTP process then contacts the HTTP server and requests the content of its configuration file. On its turn, the HTTP server will call an action on NSO to retrieve the day0 configuration file based on the device serial. After the retrieval, the ZTP process applies the received day-0 configuration and finishes with a notification sent back to the HTTP server that announces its readiness for onboarding. The HTTP server then receives this information and triggers the device onboarding process in NSO.\n",
    "\n",
    "The implementation of this HTTP server is written in Python v3 with Flask v1.1.1 as a web framework and ncclient as a NETCONF client library. The application runs on the NSO host, available on all interfaces on port 8181 (198.18.134.50:8181). The server listens to incoming HTTP requests for the two phases of the ZTP process:\n",
    "\n",
    "•\tRetrieval of day-0 configuration for the device\n",
    "\n",
    "•\tReadiness for onboarding of the device in NSO\n",
    "\n",
    "\n",
    "### Necessary imports and variable definitiion\n"
   ]
  },
  {
   "cell_type": "code",
   "execution_count": 1,
   "metadata": {},
   "outputs": [],
   "source": [
    "import os\n",
    "import sys\n",
    "import shutil\n",
    "import atexit\n",
    "import logging\n",
    "\n",
    "from ncclient import manager\n",
    "from xml.etree import ElementTree\n",
    "from ncclient.xml_ import to_ele\n",
    "from ncclient.operations import RPCError\n",
    "\n",
    "from flask import Flask, send_from_directory\n",
    "\n",
    "app = Flask(__name__)\n",
    "temporary_dir = 'tmp'\n",
    "session = {}\n"
   ]
  },
  {
   "cell_type": "markdown",
   "metadata": {},
   "source": [
    "### Initial configuration\n",
    "\n",
    "Set the credentials used to connect to NSO over netconf and\n",
    "load the 2 different xml payload which will be sent to nso, corresponding to the 2 defined actions - day0 retrieval and device onboarding."
   ]
  },
  {
   "cell_type": "code",
   "execution_count": 2,
   "metadata": {},
   "outputs": [],
   "source": [
    "def initial_config():\n",
    "\n",
    "    # NSO credentials\n",
    "    session['nso'] = {}\n",
    "    session['nso']['host'] = \"198.18.134.50\"\n",
    "    session['nso']['port'] = \"2022\"\n",
    "    session['nso']['user'] = \"admin\"\n",
    "    session['nso']['pass'] = \"admin\"\n",
    "\n",
    "    # Read NSO RPC action for request of configuration file\n",
    "    file_name = \"config/config-action.xml\"\n",
    "    with open(file_name, 'r') as file:\n",
    "        session['nso']['config-action'] = file.read()\n",
    "\n",
    "    # Read NSO RPC action for request of onboarding\n",
    "    file_name = \"config/onboard-action.xml\"\n",
    "    with open(file_name, 'r') as file:\n",
    "        session['nso']['onboard-action'] = file.read()\n",
    "\n",
    "    # Create temporary directory that stores config files\n",
    "    if not os.path.exists(temporary_dir):\n",
    "        os.mkdir(temporary_dir)\n",
    "        "
   ]
  },
  {
   "cell_type": "markdown",
   "metadata": {},
   "source": [
    "### Get day0 configuration method\n",
    "\n",
    "We define a GET/HEAD route (url) on the server to return the configuration file by calling an NSO action which, based on the device serial, will provide the contents of the correspoinding day0 file.\n",
    "The method will be called whenever there is an incoming HEAD or GET request of this form:\n",
    "\n",
    "http://198.18.134.50:8181/ztp/conf/v1/{serial}\n",
    "    \n",
    "where {serial} should be the serial of a device which is already preconfigured in the NSO ztp service.\n",
    "\n",
    "For communicating with NSO we use the ncclient library to connect to the NETCONF interface. \n",
    "\n",
    "The payload which we send using the ncclient library to call the get_day0 action from the ztp service is:\n",
    "```xml\n",
    "<action xmlns=\"http://tail-f.com/ns/netconf/actions/1.0\">\n",
    "  <data>\n",
    "    <ztp xmlns=\"http://example.com/ztp\">\n",
    "      <serial>{SERIAL}</serial>\n",
    "      <get_day0/>\n",
    "    </ztp>\n",
    "  </data>\n",
    "</action>\n",
    "```\n",
    "\n",
    "where {SERIAL} will be replaced with the serial number coming from the device (included in the URL)\n",
    "\n",
    "    "
   ]
  },
  {
   "cell_type": "code",
   "execution_count": 3,
   "metadata": {},
   "outputs": [],
   "source": [
    "@app.route('/ztp/conf/v1/<serial>')\n",
    "def conf_v1(serial):\n",
    "    m = manager.connect(look_for_keys=False,\n",
    "                        host=session['nso']['host'],\n",
    "                        port=session['nso']['port'],\n",
    "                        username=session['nso']['user'],\n",
    "                        password=session['nso']['pass'],\n",
    "                        hostkey_verify=False)\n",
    "\n",
    "    try:\n",
    "        # Call get config action\n",
    "        if session['nso']['config-action'] is not None and len(session['nso']['config-action']) > 0:\n",
    "            try:\n",
    "                response = m.dispatch(to_ele(session['nso']['config-action'].format(SERIAL=serial)))\n",
    "                configuration = response.data_ele.find(\".//*{http://example.com/ztp}message\")\n",
    "\n",
    "                # Return a configuration file\n",
    "                if configuration is not None:\n",
    "                    with open(os.path.join(temporary_dir, serial), 'w') as file:\n",
    "                        file.write(configuration.text)\n",
    "\n",
    "                    return send_from_directory(temporary_dir, serial,\n",
    "                                               as_attachment=True)\n",
    "            except RPCError as e:\n",
    "                print('Failed to make RPC request:', e)\n",
    "    finally:\n",
    "        m.close_session()\n",
    "\n",
    "    return ''\n"
   ]
  },
  {
   "cell_type": "markdown",
   "metadata": {},
   "source": [
    "### Onboard device in NSO method\n",
    "\n",
    "In order know when the device finished applying the day0 configuration we add as the last step in the config script (bash, python) a POST call to our HTTP server. The URL to be called will look like:\n",
    "\n",
    "http://198.18.134.50:8181/ztp/status/{serial}/1\n",
    "\n",
    "(the last parameter is the status code - for now only status 1 is used which means OK, but additional statuses might be used to have a more detailed feedback during the execution of the script)\n",
    "\n",
    "Upon retrieving this request, the HTTP server will call the onboard action on NSO - again by specifiying the serial of the devidce which is part of the URL. \n",
    "\n",
    "```xml\n",
    "<action xmlns=\"http://tail-f.com/ns/netconf/actions/1.0\">\n",
    "  <data>\n",
    "    <ztp xmlns=\"http://example.com/ztp\">\n",
    "      <serial>{SERIAL}</serial>\n",
    "      <onboard/>\n",
    "    </ztp>\n",
    "  </data>\n",
    "</action>\n",
    "```\n",
    "\n",
    "NSO in its turn will onboard the device - add it to the device tree, fetch the ssh keys and perform a sync-from.\n"
   ]
  },
  {
   "cell_type": "code",
   "execution_count": 4,
   "metadata": {},
   "outputs": [],
   "source": [
    "@app.route('/ztp/status/<serial>/<int:status>', methods=['POST'])\n",
    "def onboard(serial, status):\n",
    "\n",
    "    m = manager.connect(look_for_keys=False,\n",
    "                        host=session['nso']['host'],\n",
    "                        port=session['nso']['port'],\n",
    "                        username=session['nso']['user'],\n",
    "                        password=session['nso']['pass'],\n",
    "                        hostkey_verify=False)\n",
    "    \n",
    "    try:\n",
    "        if serial and status == 1:\n",
    "            # Call onboarding action\n",
    "            if session['nso']['onboard-action'] is not None and len(session['nso']['onboard-action']) > 0:\n",
    "                try:\n",
    "                    m.dispatch(to_ele(session['nso']['onboard-action'].format(SERIAL=serial)))\n",
    "                except RPCError as e:\n",
    "                    print('Failed to make RPC request:', e)\n",
    "\n",
    "    finally:\n",
    "        m.close_session()\n",
    "\n",
    "    return ''\n",
    "\n"
   ]
  },
  {
   "cell_type": "markdown",
   "metadata": {},
   "source": [
    "### Start the web server and wait for requests\n"
   ]
  },
  {
   "cell_type": "code",
   "execution_count": null,
   "metadata": {},
   "outputs": [
    {
     "name": "stdout",
     "output_type": "stream",
     "text": [
      " * Serving Flask app \"__main__\" (lazy loading)\n",
      " * Environment: production\n",
      "   WARNING: This is a development server. Do not use it in a production deployment.\n",
      "   Use a production WSGI server instead.\n",
      " * Debug mode: off\n"
     ]
    },
    {
     "name": "stderr",
     "output_type": "stream",
     "text": [
      " * Running on http://0.0.0.0:8181/ (Press CTRL+C to quit)\n",
      "198.18.1.32 - - [28/Jan/2020 07:46:10] \"HEAD /ztp/conf/v1/36e6df2c HTTP/1.1\" 200 -\n",
      "198.18.1.32 - - [28/Jan/2020 07:46:11] \"GET /ztp/conf/v1/36e6df2c HTTP/1.1\" 200 -\n",
      "198.18.1.32 - - [28/Jan/2020 07:46:23] \"POST /ztp/status/36e6df2c/1 HTTP/1.1\" 200 -\n",
      "198.18.1.32 - - [28/Jan/2020 07:48:23] \"HEAD /ztp/conf/v1/36e6df2c HTTP/1.1\" 200 -\n",
      "198.18.1.32 - - [28/Jan/2020 07:48:24] \"GET /ztp/conf/v1/36e6df2c HTTP/1.1\" 200 -\n",
      "198.18.1.32 - - [28/Jan/2020 07:48:36] \"POST /ztp/status/36e6df2c/1 HTTP/1.1\" 200 -\n",
      "198.18.1.32 - - [28/Jan/2020 07:51:21] \"HEAD /ztp/conf/v1/36e6df2c HTTP/1.1\" 200 -\n",
      "198.18.1.32 - - [28/Jan/2020 07:51:21] \"GET /ztp/conf/v1/36e6df2c HTTP/1.1\" 200 -\n",
      "198.18.1.32 - - [28/Jan/2020 07:51:34] \"POST /ztp/status/36e6df2c/1 HTTP/1.1\" 200 -\n"
     ]
    }
   ],
   "source": [
    "if __name__ == '__main__':\n",
    "\n",
    "    initial_config()\n",
    "    # Expose server through all IP addresses, on port 8181\n",
    "    app.run(host='0.0.0.0', port=8181)\n"
   ]
  },
  {
   "cell_type": "markdown",
   "metadata": {},
   "source": [
    "### Verify that the request for getting the day0 configuration file is working:\n",
    "\n",
    "#### TASK\n",
    "\n",
    "Click on this link: \n",
    "http://198.18.134.50:8181/ztp/conf/v1/36e6df2c\n",
    "\n",
    "and check that the day0 configuration is downloaded with the placeholders replaced with the saved values for our devices\n"
   ]
  }
 ],
 "metadata": {
  "kernelspec": {
   "display_name": "Python 3",
   "language": "python",
   "name": "python3"
  },
  "language_info": {
   "codemirror_mode": {
    "name": "ipython",
    "version": 3
   },
   "file_extension": ".py",
   "mimetype": "text/x-python",
   "name": "python",
   "nbconvert_exporter": "python",
   "pygments_lexer": "ipython3",
   "version": "3.6.8"
  }
 },
 "nbformat": 4,
 "nbformat_minor": 4
}
