{
 "cells": [
  {
   "cell_type": "markdown",
   "metadata": {},
   "source": [
    "# Automate IOS-XR Zero Touch Provisioning\n",
    "\n",
    "## Overview\n",
    "\n",
    "On-boarding devices with the initial configuration (day-0 configuration) is a task which needs to be automated in many use-cases, especially if a large number of devices are involved. By limiting the human interaction in this process as much as possible service providers can reduce “truck-offload to service-activation” time, avoid to send skilled personal to the field to configure devices manually and achieve better deployment predictability.\n",
    "\n",
    "For the management of day-1...day-n configurations we usually use the Cisco Network Services Orchestrator (NSO), so in the majority of use-cases the main goal of the day-0 configuration would be to bootstrap the devices and provide them with the minimal configuration needed to be able to onboard them in Cisco NSO - this means basically setting an IP address, user, password, generate some keys. Of course, we are able to manage more complex configurations if the use-case demands it, but it is recommended to manage as much as possible from the configuration using Cisco NSO, if available. \n",
    "\n",
    "Note that if the NED supports sending CLI commands to the device (using the life-status actions) it is also possible and straightforward to implement the MOPs (using workflows or scripts) which will use NSO to perform a software upgrade on the device to the desired version.\n",
    "\n",
    "There are 3 main protocols supported by Cisco products for automating the day-0 configuration provisioning, depending on the type of device:\n",
    "\n",
    "•\tCisco ZTP (Zero Touch Provisioning) - available on IOS-XR devices\n",
    "\n",
    "•\tCisco PnP (Plug and Play) - available on branch devices (IOS/IOS-XE devices)\n",
    "\n",
    "•\tPOAP (PowerOn Auto Provisioning) - available on the Nexus switches\n",
    "\n",
    "This guide demonstrates the use of Zero Touch Provisioning Automation in the context of Cisco IOS-XR. There is also a brief description of the other protocols at the end of the lab guide as well as an example of using the PNP protocol with the NSO PNP server for an IOS-XE router.\n"
   ]
  },
  {
   "cell_type": "markdown",
   "metadata": {},
   "source": [
    "## Cisco ZTP\n",
    "\n",
    "<img src=\"img/ztp_1.png\" width=\"800\"/>\n",
    "\n",
    "On IOS-XR, ZTP process starts at boot time and scans the configuration for the presence of a username. \n",
    "If there is no username configured, ZTP starts a DHCP client on the management interface for IPv4 and IPv6 simultaneously, and wait for a response. Together with the IP address the DHCP server will provide an URL to download a config file or a script using option 67 (or 59 for IPv6). We are using http URLs but other protocols like TFTP are also supported. \n",
    "\n",
    "The ZTP process will download the file and based on the first line of the text file received will: \n",
    "•\tapply the configuration commands it contains (if it starts with ”!! IOS XR”)\n",
    "•\tassume this is a shell script and start the execution  (if it starts with ”#!/bin/bash” or ”#!/bin/sh”) \n",
    "•\tstart the execution if it is python script\n",
    "\n",
    "If the text file cannot be interpreted as a script or a configuration file, or is bigger than 100MB, ZTP will erase the file and terminate its execution.\n",
    "\n",
    "Using the different DHCP options/functions available on the server it is possible to dynamically create the file URL based on specific device information like the serial number. In this way we will be able to identify the device which made the request on the server side and provide a customized day0 configuration/script.\n",
    "\n",
    "Using a script is the most flexible solution since inside the script it is possible to download other config files and apply them (using curl or wget for example / python libraries), implement logic, install packages and so on. In order to notify the provisioning server that the device has finished applying its configuration usually we make a HTTP request as the last command in the script which will signalize to our server that the device finished applying the config.\n",
    "\n",
    "> The description in this section relates to Classic ZTP process\n",
    "> supported on IOS-XR. In addition, IOS-XR Release 7 introduces a\n",
    "> enhanced process called Secure ZTP (defined by Yang-Models to\n",
    "> implement interactions between the router and a RESTCONF based ZTP\n",
    "> Server) as well as support for YANG XML payload in the ZTP files,\n",
    "> these enhancements are out of the scope of the current lab."
   ]
  },
  {
   "cell_type": "markdown",
   "metadata": {},
   "source": [
    "## LAB Details\n",
    "\n",
    "This section includes the existing components of the dCloud session used for the lab. Th IP addresses and credentials of all the components used\n",
    "may be found in the table below and in the Servers tab of the dCloud session:\n",
    " \n",
    " \n",
    "| Name | Description | IP Address | Username | Password |\n",
    "|--|--|--|--|--|\n",
    "| Workstation | Windows 7 Server with Remote Desktop | 198.18.133.252 | Administrator | C1sco12345 |\n",
    "| NSO | NSO\tCisco NSO Server | 198.18.134.50 | cisco | cisco |\n",
    "| DHCP Server | ISC DHCP Server | 198.18.1.30 | cisco | cisco |\n",
    "| XR9Kv | Cisco IOS-XR | 198.18.1.32 | cisco | cisco |\n",
    "| CSR1Kv | Cisco IOS-XE | 198.18.1.31 | cisco | cisco |\n",
    "\n",
    "<img src=\"img/ztp_topo_cl.png\" width=\"800\"/>"
   ]
  },
  {
   "cell_type": "markdown",
   "metadata": {},
   "source": [
    "It will enable to understand and use ZTP on IOS-XR devices, to develop a prototype application in Python supporting automatic onboarding of XR devices in Cisco NSO as well as updating a Webex Team space about the onboarding status.\n",
    "\n",
    "Specific focus will be provided on:\n",
    "\n",
    "•\tIOS-XR ZTP process and scripting capabilities\n",
    "\n",
    "•\tISC DHCP server configuration\n",
    "\n",
    "•\tCisco NSO actions capabilities\n",
    "\n",
    "•\tCisco NSO notification capabilities\n",
    "\n",
    "•\tHTTP server Python application development\n",
    "\n",
    "•\tNETCONF/REST Python application development \n",
    "\n",
    "•\tWebex Team REST API\n"
   ]
  },
  {
   "cell_type": "markdown",
   "metadata": {},
   "source": [
    "<img src=\"img/ztp_cf.png\" width=\"1000\"/>"
   ]
  },
  {
   "cell_type": "code",
   "execution_count": null,
   "metadata": {},
   "outputs": [],
   "source": []
  }
 ],
 "metadata": {
  "kernelspec": {
   "display_name": "Python 3",
   "language": "python",
   "name": "python3"
  },
  "language_info": {
   "codemirror_mode": {
    "name": "ipython",
    "version": 3
   },
   "file_extension": ".py",
   "mimetype": "text/x-python",
   "name": "python",
   "nbconvert_exporter": "python",
   "pygments_lexer": "ipython3",
   "version": "3.6.8"
  }
 },
 "nbformat": 4,
 "nbformat_minor": 4
}
